{
 "cells": [
  {
   "cell_type": "code",
   "execution_count": 9,
   "id": "31b18933",
   "metadata": {},
   "outputs": [
    {
     "name": "stdout",
     "output_type": "stream",
     "text": [
      "Expected: 22\n",
      "22\n",
      "\n",
      "Expected: -5\n",
      "-5\n"
     ]
    }
   ],
   "source": [
    "!g++ baia.cpp -o baia\n",
    "\n",
    "!echo \"Expected: 22\"\n",
    "!echo \"11\" | ./baia\n",
    "\n",
    "!echo \"\"\n",
    "!echo \"Expected: -5\"\n",
    "!echo \"5\" | ./baia\n"
   ]
  },
  {
   "cell_type": "code",
   "execution_count": 12,
   "id": "b37c3cfc",
   "metadata": {},
   "outputs": [
    {
     "name": "stdout",
     "output_type": "stream",
     "text": [
      "Expected: 22\n",
      "22\n",
      "\n",
      "Expected: -5\n",
      "-5\n",
      "\n",
      "Expected:  -6\n",
      "-6\n",
      "\n",
      "Expected: -1\n",
      "-1\n"
     ]
    }
   ],
   "source": [
    "!g++ baib.cpp -o baib\n",
    "\n",
    "!echo \"Expected: 22\"\n",
    "!echo \"11\" | ./baib\n",
    "\n",
    "!echo \"\"\n",
    "!echo \"Expected: -5\"\n",
    "!echo \"5\" | ./baib\n",
    "\n",
    "!echo \"\"\n",
    "!echo \"Expected:  -6\"\n",
    "!echo \"-3\" | ./baib\n",
    "\n",
    "!echo \"\"\n",
    "!echo \"Expected: -1\"\n",
    "!echo \"1\" | ./baib"
   ]
  },
  {
   "cell_type": "code",
   "execution_count": 5,
   "id": "a4297a2e",
   "metadata": {},
   "outputs": [
    {
     "name": "stdout",
     "output_type": "stream",
     "text": [
      "Expected: 4\n",
      "4\n",
      "\n",
      "Expected: 18\n",
      "18\n"
     ]
    }
   ],
   "source": [
    "!g++ baic.cpp -o baic\n",
    "\n",
    "!echo \"Expected: 4\"\n",
    "!echo \"2\" | ./baic\n",
    "\n",
    "!echo \"\"\n",
    "!echo \"Expected: 18\"\n",
    "!echo \"9\" | ./baic"
   ]
  },
  {
   "cell_type": "code",
   "execution_count": 6,
   "id": "0ecc39bb",
   "metadata": {},
   "outputs": [
    {
     "name": "stdout",
     "output_type": "stream",
     "text": [
      "Expected: 8\n",
      "8\n"
     ]
    }
   ],
   "source": [
    "!g++ baid.cpp -o baid\n",
    "\n",
    "!echo \"Expected: 8\"\n",
    "!echo \"4\" | ./baid\n"
   ]
  },
  {
   "cell_type": "code",
   "execution_count": 8,
   "id": "8703de77",
   "metadata": {},
   "outputs": [
    {
     "name": "stdout",
     "output_type": "stream",
     "text": [
      "Expected: 10\n",
      "10\n",
      "\n",
      "Expected: 12\n",
      "12\n",
      "\n",
      "Expected: 15\n",
      "15\n",
      "\n",
      "Expected: -2\n",
      "-2\n",
      "\n",
      "Expected: 5\n",
      "0\n"
     ]
    }
   ],
   "source": [
    "!g++ baie.cpp -o baie\n",
    "\n",
    "!echo \"Expected: 10\"\n",
    "!echo \"10 5 2\" | ./baie\n",
    "\n",
    "!echo \"\"\n",
    "!echo \"Expected: 12\"\n",
    "!echo \"5 12 6\" | ./baie\n",
    "\n",
    "!echo \"\"\n",
    "!echo \"Expected: 15\"\n",
    "!echo \"7 3 15\" | ./baie\n",
    "\n",
    "!echo \"\"\n",
    "!echo \"Expected: -2\"\n",
    "!echo \"-5 -7 -2\" | ./baie\n",
    "\n",
    "!echo \"\"\n",
    "!echo \"Expected: 5\"\n",
    "!echo \"5 5 3\" | ./baie\n"
   ]
  },
  {
   "cell_type": "code",
   "execution_count": 22,
   "id": "72ff4928",
   "metadata": {},
   "outputs": [
    {
     "name": "stdout",
     "output_type": "stream",
     "text": [
      "Expected: No solution\n",
      "No solution.\n",
      "Test 1: PASSED\n",
      "Test 2: PASSED\n",
      "Test 3: PASSED\n",
      "Test 4: PASSED\n",
      "Test 5: PASSED\n",
      "Test 6: PASSED\n",
      "Test 7: PASSED\n",
      "Test 8: PASSED\n"
     ]
    }
   ],
   "source": [
    "!g++ phanIII.cpp -o phanIII \n",
    "!echo \"Expected: No solution\"\n",
    "!echo \"1 2 3\" | ./phanIII \n"
   ]
  }
 ],
 "metadata": {
  "kernelspec": {
   "display_name": "Python 3",
   "language": "python",
   "name": "python3"
  },
  "language_info": {
   "codemirror_mode": {
    "name": "ipython",
    "version": 3
   },
   "file_extension": ".py",
   "mimetype": "text/x-python",
   "name": "python",
   "nbconvert_exporter": "python",
   "pygments_lexer": "ipython3",
   "version": "3.12.1"
  }
 },
 "nbformat": 4,
 "nbformat_minor": 5
}
