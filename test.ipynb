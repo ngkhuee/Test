{
 "cells": [
  {
   "cell_type": "code",
   "execution_count": null,
   "id": "17afa7b5",
   "metadata": {},
   "outputs": [
    {
     "name": "stdout",
     "output_type": "stream",
     "text": [
      "Expected: 5\n",
      "5\n",
      "Expected: 3\n",
      "0\n"
     ]
    }
   ],
   "source": [
    "!g++ baie.cpp -o baie\n",
    "!./baie <baie_t1.inp >out1.txt\n",
    "!echo \"Expected: 5\"\n",
    "!cat out1.txt\n",
    "!echo \"Expected: 3\"\n",
    "!./baie <baie_t2.inp\n",
    "\n",
    "# Đọc từng dòng trong file `baie_input.txt`, truyền vào chương trình và in kết quả\n",
    "while read -r line; do\n",
    "    echo \"Input: $line\"\n",
    "    echo \"$line\" | ./baie  # Truyền input vào chương trình C++\n",
    "done < baie_input.txt\n"
   ]
  },
  {
   "cell_type": "code",
   "execution_count": 3,
   "id": "1d79b177",
   "metadata": {},
   "outputs": [
    {
     "name": "stdout",
     "output_type": "stream",
     "text": [
      "baie.cpp     baie_t2.inp  hello.exe  index.html\n",
      "baie_t1.inp  hello.cpp\t  hello.py   test.ipynb\n"
     ]
    }
   ],
   "source": [
    "!ls\n",
    "!mkdir hello"
   ]
  },
  {
   "cell_type": "code",
   "execution_count": 2,
   "id": "b45e2aaf",
   "metadata": {},
   "outputs": [
    {
     "name": "stdout",
     "output_type": "stream",
     "text": [
      "Writing baie_t1.inp\n"
     ]
    }
   ],
   "source": [
    "%%writefile baie_t1.inp\n",
    "2 3 5"
   ]
  },
  {
   "cell_type": "code",
   "execution_count": 1,
   "id": "7ae22985",
   "metadata": {},
   "outputs": [
    {
     "name": "stdout",
     "output_type": "stream",
     "text": [
      "Writing baie_t2.inp\n"
     ]
    }
   ],
   "source": [
    "%%writefile baie_t2.inp\n",
    "3 3 3"
   ]
  }
 ],
 "metadata": {
  "kernelspec": {
   "display_name": "Python 3",
   "language": "python",
   "name": "python3"
  },
  "language_info": {
   "codemirror_mode": {
    "name": "ipython",
    "version": 3
   },
   "file_extension": ".py",
   "mimetype": "text/x-python",
   "name": "python",
   "nbconvert_exporter": "python",
   "pygments_lexer": "ipython3",
   "version": "3.12.1"
  }
 },
 "nbformat": 4,
 "nbformat_minor": 5
}
